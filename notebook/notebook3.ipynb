{
 "cells": [
  {
   "cell_type": "markdown",
   "metadata": {},
   "source": [
    "1. longitude: A measure of how far west a house is; a higher value is farther west\n",
    "\n",
    "2. latitude: A measure of how far north a house is; a higher value is farther north\n",
    "\n",
    "3. housingMedianAge: Median age of a house within a block; a lower number is a newer building\n",
    "\n",
    "4. totalRooms: Total number of rooms within a block\n",
    "\n",
    "5. totalBedrooms: Total number of bedrooms within a block\n",
    "\n",
    "6. population: Total number of people residing within a block\n",
    "\n",
    "7. households: Total number of households, a group of people residing within a home unit, for a block\n",
    "\n",
    "8. medianIncome: Median income for households within a block of houses (measured in tens of thousands of US Dollars)\n",
    "\n",
    "9. medianHouseValue: Median house value for households within a block (measured in US Dollars)\n",
    "\n",
    "10. oceanProximity: Location of the house w.r.t ocean/sea"
   ]
  },
  {
   "cell_type": "markdown",
   "metadata": {},
   "source": [
    "#### Make Sence of the Data\n",
    "\n",
    "What are the typical things we can learn from the basic statistics with visualizaitons?\n",
    "\n",
    "Do the data make sence? scan each column and see whether the data make sense at a high level.\n",
    "\n",
    "longitude, latitude and house median age seem to be OK.\n",
    "\n",
    "total rooms and total bedrooms are in hundreds and thousands - this does make sense given each row is a district\n",
    "population seems to be OK but you want to know what's the unit for the number, e.g., thousands? millions? households are numbers of people living together, which is OK. \n",
    "\n",
    "Households mean is 499 and population mean is 1425, so you can tell that population is just the total number of people in each district not in thousands or millions.\n",
    "\n",
    "median income is apparently problematic - how can mean income be 3.87? Actually, this is because median income has been scaled and capped between 15.0001 (max) and 0.4999 (min). Preprocessed attributes like this are common. Knowning how the data is calculated is critical.\n",
    "\n",
    "median house value data is OK and this is our target variable, i.e., we want to build a model to predict this value.\n",
    "\n",
    "Feature scaling: you have noticed that the features have very different scales, which we need to handle later\n",
    "\n",
    "Distribution: from the histograms, we can tell many of them are skewed, i.e., having a long tail on one side or the other. In many cases, we need to transform the data so that they have more bell-shaped distributions."
   ]
  },
  {
   "cell_type": "code",
   "execution_count": null,
   "metadata": {},
   "outputs": [],
   "source": [
    "path = r\"D:\\ineuron\\ML Modular Projects\\ML-Project\\housing\\artifact\\data_ingestion\\2022-08-02-19-42-05\\raw_data\\housing.csv\""
   ]
  }
 ],
 "metadata": {
  "kernelspec": {
   "display_name": "Python 3.7.13 (conda)",
   "language": "python",
   "name": "python3"
  },
  "language_info": {
   "name": "python",
   "version": "3.7.13"
  },
  "orig_nbformat": 4,
  "vscode": {
   "interpreter": {
    "hash": "63b69b1952405189031f4f3d3a75f93632d586d17a169057cfc0d9d9c5055da2"
   }
  }
 },
 "nbformat": 4,
 "nbformat_minor": 2
}
