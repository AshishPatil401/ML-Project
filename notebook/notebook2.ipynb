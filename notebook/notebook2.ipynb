{
 "cells": [
  {
   "cell_type": "markdown",
   "metadata": {},
   "source": [
    "    ```\n",
    "    from scipy.stats import ks_2samp\n",
    "    import numpy as np\n",
    "\n",
    "    arr1 = np.arange(10)\n",
    "    arr2 = np.arange(100,200,10)\n",
    "    ```\n",
    "\n",
    "    - In above example we have created two numpy arrays with completely different data distribution.\n",
    "        h0 = \"Two datasets are from same data distribution\"\n",
    "        h1 = \"Two datasete are NOT from same data distribution\"\n",
    "    \n",
    "    ```\n",
    "    res = ks_2samp(arr1,arr2)\n",
    "    res.pvalue\n",
    "    ```\n",
    "    - Here p value = 1.0825088224469026e-05 which is very very less so we can reject null hypothesis h0 and accept alternate hypothesis h1.\n",
    "    - Conclusion: Two arrays have completely different data distribustion"
   ]
  },
  {
   "cell_type": "code",
   "execution_count": 31,
   "metadata": {},
   "outputs": [],
   "source": [
    "from scipy.stats import ks_2samp\n",
    "import numpy as np\n",
    "\n",
    "arr1 = np.arange(10)\n",
    "arr2 = np.arange(100,200,10)"
   ]
  },
  {
   "cell_type": "code",
   "execution_count": 32,
   "metadata": {},
   "outputs": [
    {
     "name": "stdout",
     "output_type": "stream",
     "text": [
      "[0 1 2 3 4 5 6 7 8 9]\n",
      "[100 110 120 130 140 150 160 170 180 190]\n"
     ]
    }
   ],
   "source": [
    "print(arr1)\n",
    "print(arr2)"
   ]
  },
  {
   "cell_type": "code",
   "execution_count": 33,
   "metadata": {},
   "outputs": [],
   "source": [
    "h0 = \"Two datasets are from same data distribution\"\n",
    "h1 = \"Two datasete are NOT from same data distribution\"\n",
    "\n",
    "res = ks_2samp(arr1,arr2)"
   ]
  },
  {
   "cell_type": "code",
   "execution_count": 34,
   "metadata": {},
   "outputs": [
    {
     "data": {
      "text/plain": [
       "1.0825088224469026e-05"
      ]
     },
     "execution_count": 34,
     "metadata": {},
     "output_type": "execute_result"
    }
   ],
   "source": [
    "res.pvalue"
   ]
  },
  {
   "cell_type": "code",
   "execution_count": 36,
   "metadata": {},
   "outputs": [
    {
     "name": "stdout",
     "output_type": "stream",
     "text": [
      "We dont have sufficient proof that Null hypothesis is true:\n",
      "Two datasete are NOT from same data distribution\n"
     ]
    }
   ],
   "source": [
    "if res.pvalue >= 0.05:\n",
    "    print(f\"We have sufficient proof that Null hypothesis is true:\\n{h0}\")\n",
    "else:\n",
    "    print(f\"We dont have sufficient proof that Null hypothesis is true:\\n{h1}\")"
   ]
  },
  {
   "cell_type": "code",
   "execution_count": null,
   "metadata": {},
   "outputs": [],
   "source": []
  }
 ],
 "metadata": {
  "kernelspec": {
   "display_name": "Python 3.7.13 (conda)",
   "language": "python",
   "name": "python3"
  },
  "language_info": {
   "codemirror_mode": {
    "name": "ipython",
    "version": 3
   },
   "file_extension": ".py",
   "mimetype": "text/x-python",
   "name": "python",
   "nbconvert_exporter": "python",
   "pygments_lexer": "ipython3",
   "version": "3.7.13"
  },
  "orig_nbformat": 4,
  "vscode": {
   "interpreter": {
    "hash": "63b69b1952405189031f4f3d3a75f93632d586d17a169057cfc0d9d9c5055da2"
   }
  }
 },
 "nbformat": 4,
 "nbformat_minor": 2
}
