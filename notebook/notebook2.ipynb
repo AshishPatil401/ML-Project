{
 "cells": [
  {
   "cell_type": "markdown",
   "metadata": {},
   "source": [
    "    ```\n",
    "    from scipy.stats import ks_2samp\n",
    "    import numpy as np\n",
    "\n",
    "    arr1 = np.arange(10)\n",
    "    arr2 = np.arange(100,200,10)\n",
    "    ```\n",
    "\n",
    "    - In above example we have created two numpy arrays with completely different data distribution.\n",
    "        h0 = \"Two datasets are from same data distribution\"\n",
    "        h1 = \"Two datasete are NOT from same data distribution\"\n",
    "    \n",
    "    ```\n",
    "    res = ks_2samp(arr1,arr2)\n",
    "    res.pvalue\n",
    "    ```\n",
    "    - Here p value = 1.0825088224469026e-05 which is very very less so we can reject null hypothesis h0 and accept alternate hypothesis h1.\n",
    "    - Conclusion: Two arrays have completely different data distribustion"
   ]
  },
  {
   "cell_type": "code",
   "execution_count": 31,
   "metadata": {},
   "outputs": [],
   "source": [
    "from scipy.stats import ks_2samp\n",
    "import numpy as np\n",
    "\n",
    "arr1 = np.arange(10)\n",
    "arr2 = np.arange(100,200,10)"
   ]
  },
  {
   "cell_type": "code",
   "execution_count": 32,
   "metadata": {},
   "outputs": [
    {
     "name": "stdout",
     "output_type": "stream",
     "text": [
      "[0 1 2 3 4 5 6 7 8 9]\n",
      "[100 110 120 130 140 150 160 170 180 190]\n"
     ]
    }
   ],
   "source": [
    "print(arr1)\n",
    "print(arr2)"
   ]
  },
  {
   "cell_type": "code",
   "execution_count": 33,
   "metadata": {},
   "outputs": [],
   "source": [
    "h0 = \"Two datasets are from same data distribution\"\n",
    "h1 = \"Two datasete are NOT from same data distribution\"\n",
    "\n",
    "res = ks_2samp(arr1,arr2)"
   ]
  },
  {
   "cell_type": "code",
   "execution_count": 34,
   "metadata": {},
   "outputs": [
    {
     "data": {
      "text/plain": [
       "1.0825088224469026e-05"
      ]
     },
     "execution_count": 34,
     "metadata": {},
     "output_type": "execute_result"
    }
   ],
   "source": [
    "res.pvalue"
   ]
  },
  {
   "cell_type": "code",
   "execution_count": 36,
   "metadata": {},
   "outputs": [
    {
     "name": "stdout",
     "output_type": "stream",
     "text": [
      "We dont have sufficient proof that Null hypothesis is true:\n",
      "Two datasete are NOT from same data distribution\n"
     ]
    }
   ],
   "source": [
    "if res.pvalue >= 0.05:\n",
    "    print(f\"We have sufficient proof that Null hypothesis is true:\\n{h0}\")\n",
    "else:\n",
    "    print(f\"We dont have sufficient proof that Null hypothesis is true:\\n{h1}\")"
   ]
  },
  {
   "cell_type": "code",
   "execution_count": 1,
   "metadata": {},
   "outputs": [],
   "source": [
    "filepath = \"D:\\ineuron\\ML Modular Projects\\ML-Project\\config\\model.yaml\""
   ]
  },
  {
   "cell_type": "code",
   "execution_count": 5,
   "metadata": {},
   "outputs": [],
   "source": [
    "import yaml\n",
    "def read_params(config_path: str) -> dict:\n",
    "    try:\n",
    "        with open(config_path) as yaml_file:\n",
    "            config:dict = yaml.safe_load(yaml_file)\n",
    "        return config\n",
    "    except Exception as e:\n",
    "        print(f\"Exception : {e}\")"
   ]
  },
  {
   "cell_type": "code",
   "execution_count": 10,
   "metadata": {},
   "outputs": [],
   "source": [
    "config = read_params(filepath)\n"
   ]
  },
  {
   "cell_type": "markdown",
   "metadata": {},
   "source": [
    "varibles: initialized in ModelFactory class constructor\n",
    "1. config: model configuration info present inside model.yaml file\n",
    "2. grid_search_cv_module : sklearn.model_selection\n",
    "3. grid_search_class_name: GridSearchCV\n",
    "4. grid_search_property_data: parameters for gridsearch {'cv': 5, 'verbose': 2}\n",
    "5. models_initialization_config: \n",
    "                                {'module_0': {'class' : 'LinearRegression',\n",
    "                                              'module': 'sklearn.linear_model',\n",
    "                                              'params': {'fit_intercept': True},\n",
    "                                              'search_param_grid': {'fit_intercept': [True, False]}},\n",
    "\n",
    "                                'module_1': {'class' : 'RandomForestRegressor',\n",
    "                                             'module': 'sklearn.ensemble',\n",
    "                                             'params': {'min_samples_leaf': 3},\n",
    "                                             'search_param_grid': {'min_samples_leaf': [6]}}\n",
    "                                }"
   ]
  },
  {
   "cell_type": "code",
   "execution_count": 7,
   "metadata": {},
   "outputs": [
    {
     "data": {
      "text/plain": [
       "{'grid_search': {'class': 'GridSearchCV',\n",
       "  'module': 'sklearn.model_selection',\n",
       "  'params': {'cv': 5, 'verbose': 2}},\n",
       " 'model_selection': {'module_0': {'class': 'LinearRegression',\n",
       "   'module': 'sklearn.linear_model',\n",
       "   'params': {'fit_intercept': True},\n",
       "   'search_param_grid': {'fit_intercept': [True, False]}},\n",
       "  'module_1': {'class': 'RandomForestRegressor',\n",
       "   'module': 'sklearn.ensemble',\n",
       "   'params': {'min_samples_leaf': 3},\n",
       "   'search_param_grid': {'min_samples_leaf': [6]}}}}"
      ]
     },
     "execution_count": 7,
     "metadata": {},
     "output_type": "execute_result"
    }
   ],
   "source": [
    "config"
   ]
  },
  {
   "cell_type": "code",
   "execution_count": 8,
   "metadata": {},
   "outputs": [],
   "source": [
    "models_initialization_config: dict = dict(config[\"model_selection\"])"
   ]
  },
  {
   "cell_type": "code",
   "execution_count": 9,
   "metadata": {},
   "outputs": [
    {
     "data": {
      "text/plain": [
       "{'module_0': {'class': 'LinearRegression',\n",
       "  'module': 'sklearn.linear_model',\n",
       "  'params': {'fit_intercept': True},\n",
       "  'search_param_grid': {'fit_intercept': [True, False]}},\n",
       " 'module_1': {'class': 'RandomForestRegressor',\n",
       "  'module': 'sklearn.ensemble',\n",
       "  'params': {'min_samples_leaf': 3},\n",
       "  'search_param_grid': {'min_samples_leaf': [6]}}}"
      ]
     },
     "execution_count": 9,
     "metadata": {},
     "output_type": "execute_result"
    }
   ],
   "source": [
    "models_initialization_config"
   ]
  },
  {
   "cell_type": "code",
   "execution_count": 19,
   "metadata": {},
   "outputs": [
    {
     "data": {
      "text/plain": [
       "'sklearn.model_selection'"
      ]
     },
     "execution_count": 19,
     "metadata": {},
     "output_type": "execute_result"
    }
   ],
   "source": [
    "config['grid_search']['module']"
   ]
  },
  {
   "cell_type": "code",
   "execution_count": 20,
   "metadata": {},
   "outputs": [
    {
     "data": {
      "text/plain": [
       "'GridSearchCV'"
      ]
     },
     "execution_count": 20,
     "metadata": {},
     "output_type": "execute_result"
    }
   ],
   "source": [
    "config['grid_search']['class']"
   ]
  },
  {
   "cell_type": "code",
   "execution_count": 21,
   "metadata": {},
   "outputs": [
    {
     "data": {
      "text/plain": [
       "{'cv': 5, 'verbose': 2}"
      ]
     },
     "execution_count": 21,
     "metadata": {},
     "output_type": "execute_result"
    }
   ],
   "source": [
    "config['grid_search']['params']"
   ]
  },
  {
   "cell_type": "code",
   "execution_count": 25,
   "metadata": {},
   "outputs": [
    {
     "data": {
      "text/plain": [
       "dict_keys(['module_0', 'module_1'])"
      ]
     },
     "execution_count": 25,
     "metadata": {},
     "output_type": "execute_result"
    }
   ],
   "source": [
    "models_initialization_config.keys()"
   ]
  },
  {
   "cell_type": "code",
   "execution_count": 27,
   "metadata": {},
   "outputs": [
    {
     "name": "stdout",
     "output_type": "stream",
     "text": [
      "module_0, <class 'str'>\n",
      "module_1, <class 'str'>\n"
     ]
    }
   ],
   "source": [
    "for i in models_initialization_config.keys():\n",
    "    print(f\"{i}, {type(i)}\")"
   ]
  },
  {
   "cell_type": "code",
   "execution_count": 28,
   "metadata": {},
   "outputs": [
    {
     "data": {
      "text/plain": [
       "{'class': 'LinearRegression',\n",
       " 'module': 'sklearn.linear_model',\n",
       " 'params': {'fit_intercept': True},\n",
       " 'search_param_grid': {'fit_intercept': [True, False]}}"
      ]
     },
     "execution_count": 28,
     "metadata": {},
     "output_type": "execute_result"
    }
   ],
   "source": [
    "models_initialization_config['module_0']"
   ]
  },
  {
   "cell_type": "code",
   "execution_count": null,
   "metadata": {},
   "outputs": [],
   "source": [
    "{'class': 'LinearRegression',\n",
    "'module': 'sklearn.linear_model',\n",
    " 'params': {'fit_intercept': True},\n",
    " 'search_param_grid': {'fit_intercept': [True, False]}}"
   ]
  },
  {
   "cell_type": "code",
   "execution_count": 35,
   "metadata": {},
   "outputs": [],
   "source": [
    "import importlib\n",
    "\n",
    "def class_for_name(module_name:str, class_name:str):\n",
    "    try:\n",
    "        # load the module, will raise ImportError if module cannot be loaded\n",
    "        module = importlib.import_module(module_name)\n",
    "        # get the class, will raise AttributeError if class cannot be found\n",
    "        print(f\"Executing command: from {module} import {class_name}\")\n",
    "        class_ref = getattr(module, class_name)\n",
    "        print(class_ref)\n",
    "        return class_ref\n",
    "    except Exception as e:\n",
    "        print(e)"
   ]
  },
  {
   "cell_type": "code",
   "execution_count": 37,
   "metadata": {},
   "outputs": [
    {
     "name": "stdout",
     "output_type": "stream",
     "text": [
      "Executing command: from <module 'sklearn.linear_model' from 'd:\\\\ineuron\\\\ML Modular Projects\\\\ML-Project\\\\venv\\\\lib\\\\site-packages\\\\sklearn\\\\linear_model\\\\__init__.py'> import LinearRegression\n",
      "<class 'sklearn.linear_model._base.LinearRegression'>\n"
     ]
    }
   ],
   "source": [
    "model_obj_ref = class_for_name(module_name='sklearn.linear_model',class_name='LinearRegression')"
   ]
  },
  {
   "cell_type": "code",
   "execution_count": 38,
   "metadata": {},
   "outputs": [],
   "source": [
    "model = model_obj_ref() "
   ]
  },
  {
   "cell_type": "code",
   "execution_count": 39,
   "metadata": {},
   "outputs": [
    {
     "data": {
      "text/plain": [
       "LinearRegression()"
      ]
     },
     "execution_count": 39,
     "metadata": {},
     "output_type": "execute_result"
    }
   ],
   "source": [
    "model"
   ]
  },
  {
   "cell_type": "code",
   "execution_count": 40,
   "metadata": {},
   "outputs": [],
   "source": [
    "model_initialization_config = models_initialization_config['module_0']"
   ]
  },
  {
   "cell_type": "code",
   "execution_count": 41,
   "metadata": {},
   "outputs": [
    {
     "data": {
      "text/plain": [
       "{'class': 'LinearRegression',\n",
       " 'module': 'sklearn.linear_model',\n",
       " 'params': {'fit_intercept': True},\n",
       " 'search_param_grid': {'fit_intercept': [True, False]}}"
      ]
     },
     "execution_count": 41,
     "metadata": {},
     "output_type": "execute_result"
    }
   ],
   "source": [
    "model_initialization_config"
   ]
  },
  {
   "cell_type": "code",
   "execution_count": 43,
   "metadata": {},
   "outputs": [
    {
     "data": {
      "text/plain": [
       "{'fit_intercept': True}"
      ]
     },
     "execution_count": 43,
     "metadata": {},
     "output_type": "execute_result"
    }
   ],
   "source": [
    "model_obj_property_data = dict(model_initialization_config['params'])\n",
    "model_obj_property_data"
   ]
  },
  {
   "cell_type": "code",
   "execution_count": 49,
   "metadata": {},
   "outputs": [
    {
     "data": {
      "text/plain": [
       "{'fit_intercept': [True, False]}"
      ]
     },
     "execution_count": 49,
     "metadata": {},
     "output_type": "execute_result"
    }
   ],
   "source": [
    "param_grid_search = model_initialization_config['search_param_grid']   \n",
    "param_grid_search"
   ]
  },
  {
   "cell_type": "code",
   "execution_count": 45,
   "metadata": {},
   "outputs": [],
   "source": [
    "def update_property_of_class(instance_ref:object, property_data: dict):\n",
    "    try:\n",
    "        if not isinstance(property_data, dict):\n",
    "            raise Exception(\"property_data parameter required to dictionary\")\n",
    "        print(property_data)\n",
    "        for key, value in property_data.items():\n",
    "            print(f\"Executing:$ {str(instance_ref)}.{key}={value}\")\n",
    "            setattr(instance_ref, key, value)\n",
    "        return instance_ref\n",
    "    except Exception as e:\n",
    "        print(e)"
   ]
  },
  {
   "cell_type": "code",
   "execution_count": 46,
   "metadata": {},
   "outputs": [
    {
     "name": "stdout",
     "output_type": "stream",
     "text": [
      "{'fit_intercept': True}\n",
      "Executing:$ LinearRegression().fit_intercept=True\n"
     ]
    }
   ],
   "source": [
    "model = update_property_of_class(instance_ref=model,property_data=model_obj_property_data)"
   ]
  },
  {
   "cell_type": "code",
   "execution_count": 50,
   "metadata": {},
   "outputs": [],
   "source": [
    "model_name = f\"{model_initialization_config['module']}.{model_initialization_config['class']}\""
   ]
  },
  {
   "cell_type": "code",
   "execution_count": 51,
   "metadata": {},
   "outputs": [],
   "source": [
    "from collections import namedtuple\n",
    "\n",
    "InitializedModelDetail = namedtuple(\"InitializedModelDetail\",[\"model_serial_number\", \n",
    "                                                              \"model\", \n",
    "                                                              \"param_grid_search\", \n",
    "                                                              \"model_name\"])\n",
    "\n",
    "model_initialization_config = InitializedModelDetail(model_serial_number='module_0',\n",
    "                                                    model=model,\n",
    "                                                    param_grid_search=param_grid_search,\n",
    "                                                    model_name=model_name)"
   ]
  },
  {
   "cell_type": "code",
   "execution_count": 52,
   "metadata": {},
   "outputs": [
    {
     "data": {
      "text/plain": [
       "InitializedModelDetail(model_serial_number='module_0', model=LinearRegression(), param_grid_search={'fit_intercept': [True, False]}, model_name='sklearn.linear_model.LinearRegression')"
      ]
     },
     "execution_count": 52,
     "metadata": {},
     "output_type": "execute_result"
    }
   ],
   "source": [
    "model_initialization_config"
   ]
  },
  {
   "cell_type": "code",
   "execution_count": 53,
   "metadata": {},
   "outputs": [],
   "source": [
    "initialized_model_list=[]"
   ]
  },
  {
   "cell_type": "code",
   "execution_count": 54,
   "metadata": {},
   "outputs": [],
   "source": [
    "initialized_model_list.append(model_initialization_config)"
   ]
  },
  {
   "cell_type": "code",
   "execution_count": 55,
   "metadata": {},
   "outputs": [
    {
     "data": {
      "text/plain": [
       "[InitializedModelDetail(model_serial_number='module_0', model=LinearRegression(), param_grid_search={'fit_intercept': [True, False]}, model_name='sklearn.linear_model.LinearRegression')]"
      ]
     },
     "execution_count": 55,
     "metadata": {},
     "output_type": "execute_result"
    }
   ],
   "source": [
    "initialized_model_list"
   ]
  },
  {
   "cell_type": "code",
   "execution_count": 59,
   "metadata": {},
   "outputs": [
    {
     "name": "stdout",
     "output_type": "stream",
     "text": [
      "InitializedModelDetail(model_serial_number='module_0', model=LinearRegression(), param_grid_search={'fit_intercept': [True, False]}, model_name='sklearn.linear_model.LinearRegression')\n"
     ]
    }
   ],
   "source": [
    "for initialized_model_list in initialized_model_list:\n",
    "    print(initialized_model_list)"
   ]
  },
  {
   "cell_type": "code",
   "execution_count": 68,
   "metadata": {},
   "outputs": [],
   "source": [
    "from sklearn.linear_model import LinearRegression"
   ]
  },
  {
   "cell_type": "code",
   "execution_count": 69,
   "metadata": {},
   "outputs": [],
   "source": [
    "lr = LinearRegression()"
   ]
  },
  {
   "cell_type": "code",
   "execution_count": 70,
   "metadata": {},
   "outputs": [],
   "source": [
    "setattr(lr,'fit_intercept',False)"
   ]
  },
  {
   "cell_type": "code",
   "execution_count": 71,
   "metadata": {},
   "outputs": [
    {
     "data": {
      "text/plain": [
       "LinearRegression(fit_intercept=False)"
      ]
     },
     "execution_count": 71,
     "metadata": {},
     "output_type": "execute_result"
    }
   ],
   "source": [
    "lr"
   ]
  },
  {
   "cell_type": "code",
   "execution_count": null,
   "metadata": {},
   "outputs": [],
   "source": []
  }
 ],
 "metadata": {
  "kernelspec": {
   "display_name": "Python 3.7.13 (conda)",
   "language": "python",
   "name": "python3"
  },
  "language_info": {
   "codemirror_mode": {
    "name": "ipython",
    "version": 3
   },
   "file_extension": ".py",
   "mimetype": "text/x-python",
   "name": "python",
   "nbconvert_exporter": "python",
   "pygments_lexer": "ipython3",
   "version": "3.7.13"
  },
  "orig_nbformat": 4,
  "vscode": {
   "interpreter": {
    "hash": "63b69b1952405189031f4f3d3a75f93632d586d17a169057cfc0d9d9c5055da2"
   }
  }
 },
 "nbformat": 4,
 "nbformat_minor": 2
}
